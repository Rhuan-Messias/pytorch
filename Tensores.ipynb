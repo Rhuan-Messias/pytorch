{
  "nbformat": 4,
  "nbformat_minor": 0,
  "metadata": {
    "colab": {
      "provenance": [],
      "gpuType": "T4",
      "mount_file_id": "10Cid00ScIZGwaJ3rhupmLaWV3UrxJGSg",
      "authorship_tag": "ABX9TyMcXosMzfiE3NH/w1D0lCj3"
    },
    "kernelspec": {
      "name": "python3",
      "display_name": "Python 3"
    },
    "language_info": {
      "name": "python"
    }
  },
  "cells": [
    {
      "cell_type": "markdown",
      "source": [
        "### imports"
      ],
      "metadata": {
        "id": "NRfSTlH-isBi"
      }
    },
    {
      "cell_type": "code",
      "execution_count": null,
      "metadata": {
        "id": "CfRSbUxpZUgH"
      },
      "outputs": [],
      "source": [
        "import torch\n",
        "import numpy as np"
      ]
    },
    {
      "cell_type": "markdown",
      "source": [
        "### Back Propagation"
      ],
      "metadata": {
        "id": "oE1l3rJ-iya1"
      }
    },
    {
      "cell_type": "code",
      "source": [
        "x = torch.tensor(1.0)\n",
        "y = torch.tensor(2.0)\n",
        "\n",
        "w1 = torch.tensor(5.0, requires_grad=True)\n",
        "w2 = torch.tensor(10.0, requires_grad=True)\n",
        "\n",
        "r = (x+y)*2\n",
        "\n",
        "for i in range(3):\n",
        "    #forward\n",
        "    z = x*w1 +y*w2\n",
        "    print(z)\n",
        "\n",
        "    loss = (z-r)**2\n",
        "\n",
        "    #back\n",
        "    loss.backward()\n",
        "    print(w1.grad)\n",
        "    print(w2.grad)\n",
        "\n",
        "    with torch.no_grad():\n",
        "      w1 -= 0.1*w1.grad\n",
        "      w2 -= 0.1*w2.grad\n",
        "\n",
        "      w1.grad.zero_()\n",
        "      w2.grad.zero_()\n"
      ],
      "metadata": {
        "colab": {
          "base_uri": "https://localhost:8080/"
        },
        "id": "hxhcaKc-ZciN",
        "outputId": "e79c7474-c7d4-479a-d497-94f61a5a29f3"
      },
      "execution_count": null,
      "outputs": [
        {
          "output_type": "stream",
          "name": "stdout",
          "text": [
            "tensor(25., grad_fn=<AddBackward0>)\n",
            "tensor(38.)\n",
            "tensor(76.)\n",
            "tensor(6., grad_fn=<AddBackward0>)\n",
            "tensor(0.)\n",
            "tensor(0.)\n",
            "tensor(6., grad_fn=<AddBackward0>)\n",
            "tensor(0.)\n",
            "tensor(0.)\n"
          ]
        }
      ]
    },
    {
      "cell_type": "code",
      "source": [
        "x = torch.tensor(10, device=\"cuda\")\n",
        "print(x)"
      ],
      "metadata": {
        "colab": {
          "base_uri": "https://localhost:8080/"
        },
        "id": "PQp3iu5GrlBh",
        "outputId": "40520a36-5170-4947-d58e-304d9b864fc5"
      },
      "execution_count": null,
      "outputs": [
        {
          "output_type": "stream",
          "name": "stdout",
          "text": [
            "tensor(10, device='cuda:0')\n"
          ]
        }
      ]
    },
    {
      "cell_type": "markdown",
      "source": [
        "Fazendo o treinamento com numpy"
      ],
      "metadata": {
        "id": "meWcb1M29I29"
      }
    },
    {
      "cell_type": "code",
      "source": [
        "# f = w * x\n",
        "# f = 2 * x\n",
        "\n",
        "X = np.array([1,2,3,4], dtype=np.float32)\n",
        "Y = np.array([2,4,6,8], dtype=np.float32)\n",
        "\n",
        "w = 0.0\n",
        "\n",
        "#model prediction\n",
        "def forward(x):\n",
        "  return w * x\n",
        "#loss = MSE\n",
        "def loss(y,y_prediction):\n",
        "  return ((y_prediction - y) ** 2).mean()\n",
        "\n",
        "#gradient\n",
        "# MSE = 1/N * (w*x - y)**2\n",
        "# dJ/dw = 1/N 2x (w*x - y)\n",
        "def gradient(x,y,y_predicted):\n",
        "  return np.dot(2*x, y_predicted - y).mean()\n",
        "\n",
        "print(f'Prediction before training: f(5) = {forward(5):.3f}')\n",
        "\n",
        "#Training\n",
        "learning_rate = 0.01\n",
        "n_iters = 10\n",
        "\n",
        "for epoch in range(n_iters):\n",
        "  #prediction = forward_pass\n",
        "  y_pred = forward(X)\n",
        "\n",
        "  #loss\n",
        "  l = loss(Y,y_pred)\n",
        "\n",
        "  #gradients\n",
        "  dw = gradient(X, Y, y_pred)\n",
        "\n",
        "  #update weights\n",
        "  w -= learning_rate * dw\n",
        "\n",
        "  if epoch % 1 == 0:\n",
        "    print(f'epoch {epoch + 1}: w = {w:.3f}, loss = {l:.8f}')\n",
        "\n",
        "print(f'Prediction after training: f(5) = {forward(5):.3f}')"
      ],
      "metadata": {
        "colab": {
          "base_uri": "https://localhost:8080/"
        },
        "id": "cKBgNOy4jLGn",
        "outputId": "016e655d-a6c8-497f-eb2e-7b6796d208c7"
      },
      "execution_count": null,
      "outputs": [
        {
          "output_type": "stream",
          "name": "stdout",
          "text": [
            "Prediction before training: f(5) = 0.000\n",
            "epoch 1: w = 1.200, loss = 30.00000000\n",
            "epoch 2: w = 1.680, loss = 4.80000067\n",
            "epoch 3: w = 1.872, loss = 0.76800019\n",
            "epoch 4: w = 1.949, loss = 0.12288000\n",
            "epoch 5: w = 1.980, loss = 0.01966083\n",
            "epoch 6: w = 1.992, loss = 0.00314574\n",
            "epoch 7: w = 1.997, loss = 0.00050332\n",
            "epoch 8: w = 1.999, loss = 0.00008053\n",
            "epoch 9: w = 1.999, loss = 0.00001288\n",
            "epoch 10: w = 2.000, loss = 0.00000206\n",
            "Prediction after training: f(5) = 9.999\n"
          ]
        }
      ]
    },
    {
      "cell_type": "markdown",
      "source": [
        "### Fazendo o treinamento com PyTorch"
      ],
      "metadata": {
        "id": "RPMHtfbF9OVd"
      }
    },
    {
      "cell_type": "code",
      "source": [
        "# f = w * x\n",
        "# f = 2 * x\n",
        "\n",
        "X = torch.tensor([1,2,3,4], dtype=torch.float32)\n",
        "Y = torch.tensor([2,4,6,8], dtype=torch.float32)\n",
        "\n",
        "w = torch.tensor(0.0, dtype=torch.float32, requires_grad=True)\n",
        "\n",
        "#model prediction\n",
        "def forward(x):\n",
        "  return w * x\n",
        "#loss = MSE\n",
        "def loss(y,y_prediction):\n",
        "  return ((y_prediction - y) ** 2).mean()\n",
        "\n",
        "print(f'Prediction before training: f(5) = {forward(5):.3f}')\n",
        "\n",
        "#Training\n",
        "learning_rate = 0.01\n",
        "n_iters = 100\n",
        "\n",
        "for epoch in range(n_iters):\n",
        "  #prediction = forward_pass\n",
        "  y_pred = forward(X)\n",
        "\n",
        "  #loss\n",
        "  l = loss(Y,y_pred)\n",
        "\n",
        "  #gradients\n",
        "  l.backward() # dl/dw PyTorch do all the computation of local gradients\n",
        "\n",
        "  #update weights\n",
        "  with torch.no_grad():\n",
        "    w -= learning_rate * w.grad\n",
        "\n",
        "  #zero gradients\n",
        "  w.grad.zero_()\n",
        "\n",
        "  if epoch % 10 == 0:\n",
        "    print(f'epoch {epoch + 1}: w = {w:.3f}, loss = {l:.8f}')\n",
        "\n",
        "print(f'Prediction after training: f(5) = {forward(5):.3f}')"
      ],
      "metadata": {
        "colab": {
          "base_uri": "https://localhost:8080/"
        },
        "id": "BNY8NADM3nZd",
        "outputId": "9213efc3-700e-4da2-88e9-d16428b6667b"
      },
      "execution_count": null,
      "outputs": [
        {
          "output_type": "stream",
          "name": "stdout",
          "text": [
            "Prediction before training: f(5) = 0.000\n",
            "epoch 1: w = 0.300, loss = 30.00000000\n",
            "epoch 11: w = 1.665, loss = 1.16278565\n",
            "epoch 21: w = 1.934, loss = 0.04506890\n",
            "epoch 31: w = 1.987, loss = 0.00174685\n",
            "epoch 41: w = 1.997, loss = 0.00006770\n",
            "epoch 51: w = 1.999, loss = 0.00000262\n",
            "epoch 61: w = 2.000, loss = 0.00000010\n",
            "epoch 71: w = 2.000, loss = 0.00000000\n",
            "epoch 81: w = 2.000, loss = 0.00000000\n",
            "epoch 91: w = 2.000, loss = 0.00000000\n",
            "Prediction after training: f(5) = 10.000\n"
          ]
        }
      ]
    },
    {
      "cell_type": "code",
      "source": [
        "#1 ) Design model (input, output size, forward pass)\n",
        "#2 ) Construct loss and optimizer\n",
        "#3 ) Traning loop\n",
        "#  - forward pass: compute prediction\n",
        "#  - backward pass: gradients\n",
        "#  - update weights\n",
        "\n",
        "import torch\n",
        "import torch.nn as nn\n",
        "# f = w * x\n",
        "# f = 2 * x\n",
        "\n",
        "X = torch.tensor([[1],[2],[3],[4]], dtype=torch.float32)\n",
        "Y = torch.tensor([[2],[4],[6],[8]], dtype=torch.float32)\n",
        "\n",
        "X_test = torch.tensor([5], dtype=torch.float32)\n",
        "n_samples, n_features = X.shape\n",
        "print(n_samples, n_features)\n",
        "\n",
        "input_size = n_features\n",
        "output_size = n_features\n",
        "\n",
        "#model = nn.Linear(input_size, output_size)\n",
        "\n",
        "class LinearRegression(nn.Module):\n",
        "  def __init__(self, input_dim, output_dim):\n",
        "    super(LinearRegression, self).__init__()\n",
        "    #define layers\n",
        "    self.lin = nn.Linear(input_dim, output_dim)\n",
        "\n",
        "  def forward(self, x):\n",
        "    return self.lin(x)\n",
        "\n",
        "model = LinearRegression(input_size, output_size)\n",
        "\n",
        "print(f'Prediction before training: f(5) = {model(X_test).item():.3f}')\n",
        "\n",
        "#Training\n",
        "learning_rate = 0.01\n",
        "n_iters = 100\n",
        "loss = nn.MSELoss()\n",
        "optimizer = torch.optim.SGD(model.parameters(), lr=learning_rate)\n",
        "\n",
        "for epoch in range(n_iters):\n",
        "  #prediction = forward_pass\n",
        "  y_pred = model(X)\n",
        "\n",
        "  #loss\n",
        "  l = loss(Y,y_pred)\n",
        "\n",
        "  #gradients\n",
        "  l.backward() # dl/dw PyTorch do all the computation of local gradients\n",
        "\n",
        "  #update weights\n",
        "  optimizer.step()\n",
        "  #zero gradients\n",
        "  optimizer.zero_grad()\n",
        "\n",
        "  if epoch % 10 == 0:\n",
        "    [w, b] = model.parameters()\n",
        "    print(f'epoch {epoch + 1}: w = {w[0][0].item():.3f}, loss = {l:.8f}')\n",
        "\n",
        "print(f'Prediction before training: f(5) = {model(X_test).item():.3f}')\n"
      ],
      "metadata": {
        "colab": {
          "base_uri": "https://localhost:8080/"
        },
        "id": "78gPImMecGdu",
        "outputId": "a9a0cb3b-e23d-4423-d239-b45349bc3181"
      },
      "execution_count": null,
      "outputs": [
        {
          "output_type": "stream",
          "name": "stdout",
          "text": [
            "4 1\n",
            "Prediction before training: f(5) = 2.948\n",
            "epoch 1: w = 0.925, loss = 16.61024857\n",
            "epoch 11: w = 1.858, loss = 0.43163365\n",
            "epoch 21: w = 2.007, loss = 0.01294493\n",
            "epoch 31: w = 2.030, loss = 0.00200897\n",
            "epoch 41: w = 2.033, loss = 0.00162860\n",
            "epoch 51: w = 2.032, loss = 0.00152699\n",
            "epoch 61: w = 2.031, loss = 0.00143794\n",
            "epoch 71: w = 2.031, loss = 0.00135424\n",
            "epoch 81: w = 2.030, loss = 0.00127540\n",
            "epoch 91: w = 2.029, loss = 0.00120117\n",
            "Prediction before training: f(5) = 10.058\n"
          ]
        }
      ]
    },
    {
      "cell_type": "markdown",
      "source": [
        "###Linear Regression"
      ],
      "metadata": {
        "id": "9nvVnGjIG5OC"
      }
    },
    {
      "cell_type": "code",
      "source": [
        "# Design model (input, output size, forward pass)\n",
        "# Construc loss and optimizer\n",
        "# Training Loop\n",
        "#  - forward pass: compute prediction and loss\n",
        "#  - backward pass: gradients\n",
        "#  - update weights\n",
        "\n",
        "import torch\n",
        "import torch.nn as nn\n",
        "import numpy as np\n",
        "from sklearn import datasets\n",
        "import matplotlib.pyplot as plt\n",
        "\n",
        "#preprocess (prepare data)\n",
        "X_numpy, y_numpy = datasets.make_regression(n_samples=100, n_features=1,\n",
        "                                            noise=20, random_state=1)\n",
        "X = torch.from_numpy(X_numpy.astype(np.float32))# they were double before\n",
        "y = torch.from_numpy(y_numpy.astype(np.float32))\n",
        "y = y.view(y.shape[0], 1) #reshape our tensor\n",
        "\n",
        "n_samples, n_features = X.shape\n",
        "\n",
        "# step 1 - model\n",
        "input_size = n_features\n",
        "output_size = 1\n",
        "\n",
        "model = nn.Linear(input_size, output_size)\n",
        "\n",
        "# step 2 - loss and optimizer\n",
        "learning_rate = 0.01\n",
        "criterion = nn.MSELoss()\n",
        "optimizer = torch.optim.SGD(model.parameters(), lr=learning_rate) #Stochastic Gradient Descent\n",
        "\n",
        "# step 3 - traning loop\n",
        "num_epochs = 100\n",
        "for epoch in range(num_epochs):\n",
        "  #forward pass and loss\n",
        "  y_predicted = model(X)\n",
        "  loss = criterion(y_predicted, y) # Predicted and actual values\n",
        "\n",
        "  #backward pass\n",
        "  loss.backward()\n",
        "\n",
        "  #update\n",
        "  optimizer.step()\n",
        "  optimizer.zero_grad()\n",
        "\n",
        "  if (epoch+1) % 10 == 0:\n",
        "    print(f'epoch: {epoch+1}, loss = {loss.item():.4f}')\n",
        "\n",
        "#plot\n",
        "predicted = model(X).detach() #don't show in the graph (create a new tensor where the req_gradient is false)\n",
        "\n",
        "plt.plot(X_numpy, y_numpy, 'ro') # red dots = ro\n",
        "plt.plot(X_numpy, predicted, 'b') # blue line = b"
      ],
      "metadata": {
        "colab": {
          "base_uri": "https://localhost:8080/",
          "height": 621
        },
        "id": "7598FfWGHxE5",
        "outputId": "9bbaa089-8d2c-4be4-df93-4e97518ab5ba"
      },
      "execution_count": null,
      "outputs": [
        {
          "output_type": "stream",
          "name": "stdout",
          "text": [
            "epoch: 10, loss = 4439.2251\n",
            "epoch: 20, loss = 3310.5303\n",
            "epoch: 30, loss = 2494.0000\n",
            "epoch: 40, loss = 1902.6608\n",
            "epoch: 50, loss = 1473.9783\n",
            "epoch: 60, loss = 1162.9244\n",
            "epoch: 70, loss = 937.0290\n",
            "epoch: 80, loss = 772.8491\n",
            "epoch: 90, loss = 653.4370\n",
            "epoch: 100, loss = 566.5279\n"
          ]
        },
        {
          "output_type": "execute_result",
          "data": {
            "text/plain": [
              "[<matplotlib.lines.Line2D at 0x7e77974a3e90>]"
            ]
          },
          "metadata": {},
          "execution_count": 2
        },
        {
          "output_type": "display_data",
          "data": {
            "text/plain": [
              "<Figure size 640x480 with 1 Axes>"
            ],
            "image/png": "[encoded data removed]"
          },
          "metadata": {}
        }
      ]
    },
    {
      "cell_type": "markdown",
      "source": [
        "### Logistic Regression"
      ],
      "metadata": {
        "id": "Oe1uLt73uer6"
      }
    },
    {
      "cell_type": "code",
      "source": [
        "import torch\n",
        "import torch.nn as nn\n",
        "import numpy as np\n",
        "from sklearn import datasets\n",
        "from sklearn.preprocessing import StandardScaler\n",
        "from sklearn.model_selection import train_test_split\n",
        "\n",
        "# 0 Prepare data\n",
        "bc = datasets.load_breast_cancer()\n",
        "X, y = bc.data, bc.target\n",
        "\n",
        "n_samples,  n_features = X.shape\n",
        "\n",
        "X_train, X_test, y_train, y_test = train_test_split(X, y, test_size=0.2, random_state=1234)\n",
        "\n",
        "#scale\n",
        "sc = StandardScaler()\n",
        "X_train = sc.fit_transform(X_train)\n",
        "X_test = sc.transform(X_test)\n",
        "\n",
        "X_train = torch.from_numpy(X_train.astype(np.float32))\n",
        "X_test = torch.from_numpy(X_test.astype(np.float32))\n",
        "y_train = torch.from_numpy(y_train.astype(np.float32))\n",
        "y_test = torch.from_numpy(y_test.astype(np.float32))\n",
        "\n",
        "y_train = y_train.view(y_train.shape[0], 1) #reshape the tensor, each value in one row\n",
        "y_test = y_test.view(y_test.shape[0],1)\n",
        "\n",
        "# 1 - Model\n",
        "# f = wx + b, sigmoid at the end\n",
        "class LogisticRegression(nn.Module):\n",
        "\n",
        "  def __init__(self, n_input_features):\n",
        "    super(LogisticRegression, self).__init__()\n",
        "    self.linear = nn.Linear(n_input_features,1)\n",
        "\n",
        "  def forward(self,x):\n",
        "    y_predicted = torch.sigmoid(self.linear(x))\n",
        "    return y_predicted\n",
        "\n",
        "model = LogisticRegression(n_features)\n",
        "\n",
        "# 2 - Loss and optimizer\n",
        "# loss is different from the linear regression case\n",
        "#Binary Cross Entropy\n",
        "learning_rate = 0.01\n",
        "criterion = nn.BCELoss()\n",
        "optimizer = torch.optim.SGD(model.parameters(), lr=learning_rate)\n",
        "\n",
        "# 3 - training loop\n",
        "num_epochs = 100\n",
        "for epoch in range(num_epochs):\n",
        "  #forward pass and loss\n",
        "  y_predicted = model(X_train)\n",
        "  loss = criterion(y_predicted, y_train)\n",
        "\n",
        "  #backward pass\n",
        "  loss.backward()\n",
        "\n",
        "  #updates\n",
        "  optimizer.step()\n",
        "\n",
        "  #zero gradients because backward function add up the old gradients\n",
        "  optimizer.zero_grad()\n",
        "\n",
        "  if(epoch+1) % 10 ==0:\n",
        "    print(f'epoch: {epoch+1}, loss = {loss.item():.4f}')\n",
        "\n",
        "with torch.no_grad(): #creates the tensor with req_gradient=False\n",
        "  y_predicted = model(X_test)\n",
        "  y_predicted_cls = y_predicted.round()\n",
        "  accuracy = y_predicted_cls.eq(y_test).sum() / float(y_test.shape[0]) #every correct it add plus one\n",
        "  print(f'accuracy = {accuracy:.4f}')"
      ],
      "metadata": {
        "colab": {
          "base_uri": "https://localhost:8080/"
        },
        "id": "ySda1JlmpUM6",
        "outputId": "ac38c42a-ed56-403b-adc9-a5e9fd369b80"
      },
      "execution_count": null,
      "outputs": [
        {
          "output_type": "stream",
          "name": "stdout",
          "text": [
            "epoch: 10, loss = 0.4478\n",
            "epoch: 20, loss = 0.3914\n",
            "epoch: 30, loss = 0.3520\n",
            "epoch: 40, loss = 0.3227\n",
            "epoch: 50, loss = 0.2998\n",
            "epoch: 60, loss = 0.2812\n",
            "epoch: 70, loss = 0.2657\n",
            "epoch: 80, loss = 0.2526\n",
            "epoch: 90, loss = 0.2413\n",
            "epoch: 100, loss = 0.2314\n",
            "accuracy = 0.9123\n"
          ]
        }
      ]
    },
    {
      "cell_type": "markdown",
      "source": [
        "### Dataset and DataLoader"
      ],
      "metadata": {
        "id": "k5dOn1dbupdR"
      }
    },
    {
      "cell_type": "code",
      "source": [
        "#https://raw.githubusercontent.com/patrickloeber/pytorchTutorial/refs/heads/master/data/wine/wine.csv\n",
        "import torch\n",
        "import torchvision\n",
        "from torch.utils.data import Dataset, DataLoader\n",
        "import numpy as np\n",
        "import math\n",
        "\n",
        "\n",
        "class WineDataset(Dataset): #inherit Dataset\n",
        "  def __init__(self):\n",
        "    #data loading\n",
        "    xy = np.loadtxt('wine.csv', delimiter=',', dtype=np.float32, skiprows=1) #jump the header row\n",
        "    self.x = torch.from_numpy(xy[:, 1:])\n",
        "    self.y = torch.from_numpy(xy[:, [0]]) # n_samples, 1\n",
        "    self.n_samples = xy.shape[0]\n",
        "\n",
        "  def __getitem__(self,index): #  funciona com braskets x[n]\n",
        "    # dataset[0]\n",
        "    return self.x[index], self.y[index]\n",
        "\n",
        "  def __len__(self): # len() não funcionaria, precisa do __.__\n",
        "    #len(dataset)\n",
        "    return self.n_samples\n",
        "\n",
        "\n",
        "dataset = WineDataset()\n",
        "dataloader = DataLoader(dataset=dataset, batch_size=4, shuffle=True, num_workers=2)\n",
        "\n",
        "datatiter = iter(dataloader)\n",
        "data = next(datatiter)\n",
        "features, labels = data\n",
        "\n",
        "#training_loop\n",
        "num_epochs = 2\n",
        "total_samples = len(dataset)\n",
        "n_iterations = math.ceil(total_samples/4)\n",
        "\n",
        "for epoch in range(num_epochs):\n",
        "  for i, (inputs, labels) in enumerate(dataloader):\n",
        "    # forward backward, update weights\n",
        "    if (i+1) % 5 ==0:\n",
        "      print(f'epoch {epoch+1}/{num_epochs}, step{i+1}/{n_iterations}, inputs {inputs.shape}')\n"
      ],
      "metadata": {
        "id": "KVpjPUsqutRJ",
        "colab": {
          "base_uri": "https://localhost:8080/"
        },
        "outputId": "0b83706b-ff07-435d-a673-26d66c34425b"
      },
      "execution_count": null,
      "outputs": [
        {
          "output_type": "stream",
          "name": "stdout",
          "text": [
            "epoch 1/2, step5/45, inputs torch.Size([4, 13])\n",
            "epoch 1/2, step10/45, inputs torch.Size([4, 13])\n",
            "epoch 1/2, step15/45, inputs torch.Size([4, 13])\n",
            "epoch 1/2, step20/45, inputs torch.Size([4, 13])\n",
            "epoch 1/2, step25/45, inputs torch.Size([4, 13])\n",
            "epoch 1/2, step30/45, inputs torch.Size([4, 13])\n",
            "epoch 1/2, step35/45, inputs torch.Size([4, 13])\n",
            "epoch 1/2, step40/45, inputs torch.Size([4, 13])\n",
            "epoch 1/2, step45/45, inputs torch.Size([2, 13])\n",
            "epoch 2/2, step5/45, inputs torch.Size([4, 13])\n",
            "epoch 2/2, step10/45, inputs torch.Size([4, 13])\n",
            "epoch 2/2, step15/45, inputs torch.Size([4, 13])\n",
            "epoch 2/2, step20/45, inputs torch.Size([4, 13])\n",
            "epoch 2/2, step25/45, inputs torch.Size([4, 13])\n",
            "epoch 2/2, step30/45, inputs torch.Size([4, 13])\n",
            "epoch 2/2, step35/45, inputs torch.Size([4, 13])\n",
            "epoch 2/2, step40/45, inputs torch.Size([4, 13])\n",
            "epoch 2/2, step45/45, inputs torch.Size([2, 13])\n"
          ]
        }
      ]
    },
    {
      "cell_type": "markdown",
      "source": [
        "### Dataset Transforms"
      ],
      "metadata": {
        "id": "huE56sy-ZtTI"
      }
    },
    {
      "cell_type": "code",
      "source": [
        "import torch\n",
        "import torchvision\n",
        "from torch.utils.data import Dataset, DataLoader\n",
        "import numpy as np\n",
        "import math\n",
        "\n",
        "\n",
        "class WineDataset(Dataset): #inherit Dataset\n",
        "  def __init__(self,  transform=None):\n",
        "    #data loading\n",
        "    xy = np.loadtxt('/content/drive/MyDrive/Colab Notebooks/arquivos/wine.csv', delimiter=',', dtype=np.float32, skiprows=1) #jump the header row\n",
        "    self.n_samples = xy.shape[0]\n",
        "\n",
        "    self.x = xy[:, 1:]\n",
        "    self.y = xy[:, [0]]\n",
        "\n",
        "    self.transform = transform\n",
        "\n",
        "\n",
        "  def __getitem__(self,index): #  funciona com braskets x[n]\n",
        "    sample = self.x[index], self.y[index]\n",
        "\n",
        "    if self.transform:\n",
        "      sample = self.transform(sample)\n",
        "\n",
        "    return sample\n",
        "\n",
        "  def __len__(self): # len() não funcionaria, precisa do __.__\n",
        "    #len(dataset)\n",
        "    return self.n_samples\n",
        "\n",
        "class ToTensor: #custom transform\n",
        "  def __call__(self, sample): #callable object\n",
        "    inputs, targets = sample\n",
        "    return torch.from_numpy(inputs), torch.from_numpy(targets)\n",
        "\n",
        "class MulTransform:   # multiplication transform\n",
        "  def __init__(self, factor):\n",
        "    self.factor = factor\n",
        "\n",
        "  def __call__(self, sample):\n",
        "    inputs, target = sample\n",
        "    inputs *= self.factor\n",
        "\n",
        "    return inputs, target\n",
        "\n",
        "dataset = WineDataset(transform=ToTensor())\n",
        "firstz_data = dataset[0]\n",
        "features, labels = firstz_data\n",
        "print(features)\n",
        "print(type(features))\n",
        "print(type(labels))\n",
        "\n",
        "\n",
        "#list of our transformationss\n",
        "composed = torchvision.transforms.Compose([ToTensor(), MulTransform(2)])\n",
        "\n",
        "dataset2= WineDataset(transform=composed)\n",
        "first_data = dataset2[0]\n",
        "features,labels = first_data\n",
        "print(features)\n",
        "print(type(features), type(labels))\n",
        "\n"
      ],
      "metadata": {
        "colab": {
          "base_uri": "https://localhost:8080/"
        },
        "id": "sVOinL9Na_LP",
        "outputId": "14e8f574-5314-4516-e8aa-354ac5e8c0d2"
      },
      "execution_count": null,
      "outputs": [
        {
          "output_type": "stream",
          "name": "stdout",
          "text": [
            "tensor([1.4230e+01, 1.7100e+00, 2.4300e+00, 1.5600e+01, 1.2700e+02, 2.8000e+00,\n",
            "        3.0600e+00, 2.8000e-01, 2.2900e+00, 5.6400e+00, 1.0400e+00, 3.9200e+00,\n",
            "        1.0650e+03])\n",
            "<class 'torch.Tensor'>\n",
            "<class 'torch.Tensor'>\n",
            "tensor([2.8460e+01, 3.4200e+00, 4.8600e+00, 3.1200e+01, 2.5400e+02, 5.6000e+00,\n",
            "        6.1200e+00, 5.6000e-01, 4.5800e+00, 1.1280e+01, 2.0800e+00, 7.8400e+00,\n",
            "        2.1300e+03])\n",
            "<class 'torch.Tensor'> <class 'torch.Tensor'>\n"
          ]
        }
      ]
    },
    {
      "cell_type": "markdown",
      "source": [
        "### Softmax and Cross-Entropy"
      ],
      "metadata": {
        "id": "lod9_5a2gLiE"
      }
    },
    {
      "cell_type": "code",
      "source": [
        "import torch\n",
        "import torch.nn as nn\n",
        "import numpy as np\n",
        "\n",
        "#creating softmax function\n",
        "def softmax(x):\n",
        "  return np.exp(x) / np.sum(np.exp(x), axis = 0)\n",
        "\n",
        "x = np.array([2.0,1.0,0.1])\n",
        "outputs = softmax(x)\n",
        "print('softmax numpy: ', outputs)\n",
        "\n",
        "x = torch.tensor([2.0,1.0,0.1])\n",
        "outputs = torch.softmax(x, dim=0) #softmax from pytorch\n",
        "print(outputs)\n"
      ],
      "metadata": {
        "id": "zkvgDtvJgOT_",
        "colab": {
          "base_uri": "https://localhost:8080/"
        },
        "outputId": "b63f2923-fe3c-4462-80ca-751e1e80fe47"
      },
      "execution_count": null,
      "outputs": [
        {
          "output_type": "stream",
          "name": "stdout",
          "text": [
            "softmax numpy:  [0.65900114 0.24243297 0.09856589]\n",
            "tensor([0.6590, 0.2424, 0.0986])\n"
          ]
        }
      ]
    },
    {
      "cell_type": "code",
      "source": [
        "#cross-entropy\n",
        "#the better the prediction, the lower the loss\n",
        "import torch\n",
        "import torch.nn as nn\n",
        "import numpy as np\n",
        "\n",
        "def cross_entropy(actual, predicted):\n",
        "  loss = -np.sum(actual * np.log(predicted))\n",
        "  return loss\n",
        "\n",
        "#y must be one hot encoded\n",
        "# if class 0: [1 0 0]\n",
        "# if class 1: [0 1 0]\n",
        "# if class 2: [0 0 1]\n",
        "\n",
        "Y = np.array([1, 0, 0])\n",
        "\n",
        "# y_pred has the probabilities\n",
        "Y_pred_good = np.array([0.7, 0.2, 0.1]) # after softmax\n",
        "Y_pred_bad = np.array([0.1,0.3,0.6])\n",
        "l1 = cross_entropy(Y, Y_pred_good)\n",
        "l2 = cross_entropy(Y, Y_pred_bad)\n",
        "print(f'Loss 1 numpy: {l1:.4f}')\n",
        "print(f'Loss 2 numpy: {l2:.4f}')"
      ],
      "metadata": {
        "colab": {
          "base_uri": "https://localhost:8080/"
        },
        "id": "2w1wcV-XMDef",
        "outputId": "bae4fee5-d772-4f9e-c75f-d2da05028f06"
      },
      "execution_count": null,
      "outputs": [
        {
          "output_type": "stream",
          "name": "stdout",
          "text": [
            "Loss 1 numpy: 0.3567\n",
            "Loss 2 numpy: 2.3026\n"
          ]
        }
      ]
    },
    {
      "cell_type": "markdown",
      "source": [
        "Cross entropy in Pytorch"
      ],
      "metadata": {
        "id": "IVm2u0zrOZ6U"
      }
    },
    {
      "cell_type": "code",
      "source": [
        "import torch\n",
        "import torch.nn as nn\n",
        "import numpy as np\n",
        "\n",
        "#already do the softmax, dont implement yourself\n",
        "loss = nn.CrossEntropyLoss()\n",
        "\n",
        "# 3 samples, first is class 2, second 0 and third 1\n",
        "Y = torch.tensor([2,0,1])\n",
        "\n",
        "#size -> n_samples x nclasses = 3x3\n",
        "#raw value, dont apply softmax\n",
        "Y_pred_good = torch.Tensor([[1.0,1.0,2.1],[2.0,1.0,0.1],[0.0,3.0,0.1]])\n",
        "Y_pred_bad = torch.tensor([[0.5,2.0,0.3],[0.2,1.0,0.1],[2.5,1.0,0.1]])\n",
        "\n",
        "l1 = loss(Y_pred_good, Y)\n",
        "l2 = loss(Y_pred_bad, Y)\n",
        "\n",
        "print(f'Loss 1 numpy: {l1.item():.4f}')\n",
        "print(f'Loss 2 numpy: {l2.item():.4f}')\n",
        "\n",
        "#to get the actual prediction\n",
        "_, prediction1 = torch.max(Y_pred_good, 1)\n",
        "_, prediction2 = torch.max(Y_pred_bad,1)\n",
        "\n",
        "print(f'pred 1 = {prediction1}')\n",
        "print(f'pred 2 = {prediction2}')"
      ],
      "metadata": {
        "colab": {
          "base_uri": "https://localhost:8080/"
        },
        "id": "cL2nMg7XOZMg",
        "outputId": "32449b06-9167-4d1c-b842-834aa1468589"
      },
      "execution_count": null,
      "outputs": [
        {
          "output_type": "stream",
          "name": "stdout",
          "text": [
            "Loss 1 numpy: 0.3423\n",
            "Loss 2 numpy: 1.7440\n",
            "pred 1 = tensor([2, 0, 1])\n",
            "pred 2 = tensor([1, 1, 0])\n"
          ]
        }
      ]
    },
    {
      "cell_type": "markdown",
      "source": [
        "Example of neural network MultiClass case"
      ],
      "metadata": {
        "id": "rsbnabtsRh-O"
      }
    },
    {
      "cell_type": "code",
      "source": [
        "import torch\n",
        "import torch.nn\n",
        "\n",
        "#multiclass problem\n",
        "class NeuralNet2(nn.Module):\n",
        "  def __init__(self, input_size, hidden_size, num_classes):\n",
        "    super(NeuralNet2, self).__init__()\n",
        "    self.linear1 = nn.Linear(input_size, hidden_size)\n",
        "    self.relu = nn.ReLU()\n",
        "    self.linear2 = nn.Linear(hidden_size, num_classes)\n",
        "\n",
        "  def forward(self, x):\n",
        "    out = self.linear1(x)\n",
        "    out = self.relu(out)\n",
        "    out = self.linear2(out)\n",
        "    # no softmax at the end\n",
        "    return out\n",
        "\n",
        "model = NeuralNet2(input_size=28*28, hidden_size=5, num_classes=3)\n",
        "criterion = nn.CrossEntropyLoss() #already applies Softmax"
      ],
      "metadata": {
        "id": "GLy7q1zjRl9U"
      },
      "execution_count": null,
      "outputs": []
    },
    {
      "cell_type": "markdown",
      "source": [
        "Binary Classification case (yes or no)"
      ],
      "metadata": {
        "id": "DE2MnPSaSs5D"
      }
    },
    {
      "cell_type": "code",
      "source": [
        "import torch\n",
        "import torch.nn as nn\n",
        "\n",
        "#Binary Classification\n",
        "class NeuralNet1(nn.Module):\n",
        "  def __init__(self, input_size, hidden_size):\n",
        "    super(NeuralNet1, self).__init__()\n",
        "    self.linear1 = nn.Linear(input_size, hidden_size)\n",
        "    self.relu = nn.ReLU()\n",
        "    self.linear2 = nn.Linear(hidden_size, 1)\n",
        "\n",
        "  def forward(self,x):\n",
        "    out = self.linear1(x)\n",
        "    out = self.relu(out)\n",
        "    out = self.linear2(out)\n",
        "    #sigmoid at the end\n",
        "    y_pred = torch.sigmoid(out)\n",
        "    return y_pred\n",
        "\n",
        "model = NeuralNet1(input_size=28*28, hidden_size=5)\n",
        "criterion = nn.BCELoss()"
      ],
      "metadata": {
        "id": "6Y4HKBcaSwJt"
      },
      "execution_count": null,
      "outputs": []
    },
    {
      "cell_type": "markdown",
      "source": [
        "### Activation Functions"
      ],
      "metadata": {
        "id": "fNxhPVpAT5Dd"
      }
    },
    {
      "cell_type": "markdown",
      "source": [
        "Activation functions apply a non-linear transformation and decide whether a neuron should be activated or not:\n",
        "1. step function (0 or 1)\n",
        "2. sigmoid (between 0 and 1)\n",
        "3. TanH (between -1 and 1)\n",
        "4. ReLU (negatives are 0)\n",
        "5. Leaky ReLU (negatives has small value)\n",
        "6. Softmax (give a probabilite that sums up to 1)"
      ],
      "metadata": {
        "id": "jsXnyo_jtP5R"
      }
    },
    {
      "cell_type": "code",
      "source": [
        "# making a neural network with all the functions\n",
        "import torch\n",
        "import torch.nn as nn\n",
        "\n",
        "#nn.Sigmoid\n",
        "#nn.Softmax\n",
        "#nn.TanH\n",
        "#nn.LeakyReLU\n",
        "#torch.softmax\n",
        "#torch.tanh . . . etc\n",
        "class NeuralNet(nn.Module):\n",
        "  def __init__(self, input_size, hidden_size):\n",
        "    super(NeuralNet, self).__init__()\n",
        "    self.linear1 = nn.Linear(input_size, hidden_size)\n",
        "    self.relu = nn.ReLU()\n",
        "    self.linear2 = nn.Linear(hidden_size, 1)\n",
        "    self.sigmoid = nn.sigmoid()\n",
        "\n",
        "  def forward(self,x):\n",
        "    out = self.linear(x)\n",
        "    out = self.relu(out)\n",
        "    out = self.linear2(out)\n",
        "    out = self.sigmoid(out)\n",
        "    return out\n",
        "\n",
        "# option 2 (use activation functions directly in forward pass)\n",
        "\n",
        "class NeuralNet(nn.Module):\n",
        "  def __init__(self, input_size, hidden_size):\n",
        "    super(NeuralNet, self).__init__()\n",
        "    self.linear1 = nn.Linear(input_size, hidden_size)\n",
        "    self.linear2 = nn.Linear(hidden_size, 1)\n",
        "\n",
        "  def forward(self,x):\n",
        "    out = torch.relu(self.linear1(x))\n",
        "    out = torch.sigmoid(self.linear2(out))\n",
        "    return out"
      ],
      "metadata": {
        "id": "QxsZ0BD7T7uE"
      },
      "execution_count": null,
      "outputs": []
    },
    {
      "cell_type": "markdown",
      "source": [
        "### Feed-Forward Neural Network"
      ],
      "metadata": {
        "id": "_HlIbv3mxNi7"
      }
    },
    {
      "cell_type": "code",
      "source": [],
      "metadata": {
        "id": "YLmt3MCMxQN7"
      },
      "execution_count": null,
      "outputs": []
    }
  ]
}