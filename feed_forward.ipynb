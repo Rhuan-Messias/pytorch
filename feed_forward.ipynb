{
  "nbformat": 4,
  "nbformat_minor": 0,
  "metadata": {
    "colab": {
      "provenance": [],
      "gpuType": "T4",
      "authorship_tag": "ABX9TyP9Clmrm9FUHK4Z+2qlyiS+"
    },
    "kernelspec": {
      "name": "python3",
      "display_name": "Python 3"
    },
    "language_info": {
      "name": "python"
    },
    "accelerator": "GPU"
  },
  "cells": [
    {
      "cell_type": "markdown",
      "source": [
        "### Implementing a Neural Network for testing"
      ],
      "metadata": {
        "id": "6WUdernOcsgB"
      }
    },
    {
      "cell_type": "code",
      "execution_count": 10,
      "metadata": {
        "colab": {
          "base_uri": "https://localhost:8080/",
          "height": 428
        },
        "id": "eXAOxnwacnHK",
        "outputId": "26449e48-dc2d-4480-d84d-0000c06d656f"
      },
      "outputs": [
        {
          "output_type": "stream",
          "name": "stdout",
          "text": [
            "torch.Size([100, 1, 28, 28]) torch.Size([100])\n"
          ]
        },
        {
          "output_type": "display_data",
          "data": {
            "text/plain": [
              "<Figure size 640x480 with 6 Axes>"
            ],
            "image/png": "[encoded data removed]"
          },
          "metadata": {}
        }
      ],
      "source": [
        "# MNIST\n",
        "# DataLoader, Transformation\n",
        "# Multilayer Neural Net, activation function\n",
        "# Loss and Optimizer\n",
        "# Training Loop (batch training)\n",
        "# Model evaluation\n",
        "# GPU support\n",
        "\n",
        "import torch\n",
        "import torch.nn as nn\n",
        "import torchvision\n",
        "import torchvision.transforms as transforms\n",
        "import matplotlib.pyplot as plt\n",
        "\n",
        "#device config\n",
        "device = torch.device('cuda' if torch.cuda.is_available() else 'cpu')\n",
        "\n",
        "#hyper parameters\n",
        "input_size = 784 # 28x28 (flatten image tensor)\n",
        "hidden_size = 100 # you can try out different sizes\n",
        "num_classes = 10\n",
        "num_epochs = 2\n",
        "batch_size = 100\n",
        "learning_rate = 0.001\n",
        "\n",
        "#MNIST data\n",
        "train_dataset = torchvision.datasets.MNIST(root='./data', train=True,\n",
        "                                           transform=transforms.ToTensor(),\n",
        "                                           download=True)\n",
        "test_dataset = torchvision.datasets.MNIST(root='./data', train=False,\n",
        "                                           transform=transforms.ToTensor())\n",
        "\n",
        "train_loader = torch.utils.data.DataLoader(dataset=train_dataset,\n",
        "                                           batch_size=batch_size,\n",
        "                                           shuffle=True)\n",
        "test_loader = torch.utils.data.DataLoader(dataset=test_dataset,\n",
        "                                          batch_size=batch_size,\n",
        "                                          shuffle=False)\n",
        "examples = iter(train_loader)\n",
        "samples,labels = next(examples)\n",
        "print(samples.shape, labels.shape)\n",
        "\n",
        "for i in range(6):\n",
        "  plt.subplot(2,3, i+1)\n",
        "  plt.imshow(samples[i][0], cmap='gray')\n",
        "plt.show()\n"
      ]
    },
    {
      "cell_type": "code",
      "source": [
        "#creating the neural network\n",
        "class NeuralNet(nn.Module):\n",
        "  def __init__(self, input_size, hidden_size,output_size):\n",
        "    super(NeuralNet, self).__init__() #output size = num_classes\n",
        "    self.l1 = nn.Linear(input_size, hidden_size)\n",
        "    self.relu = nn.ReLU()\n",
        "    self.l2 = nn.Linear(hidden_size, output_size)\n",
        "\n",
        "  def forward(self, x):\n",
        "    out = self.l1(x)\n",
        "    out = self.relu(out)\n",
        "    out = self.l2(out)\n",
        "    #we don't apply softmax here Cross Entropy Loss already applies\n",
        "    return out\n",
        "\n",
        "model = NeuralNet(input_size, hidden_size, num_classes).to(device)"
      ],
      "metadata": {
        "id": "Ox2W0A3gmi3a"
      },
      "execution_count": 17,
      "outputs": []
    },
    {
      "cell_type": "code",
      "source": [
        "# loss and optimizer\n",
        "criterion = nn.CrossEntropyLoss()\n",
        "optimizer = torch.optim.Adam(model.parameters(), lr=learning_rate) #adam optimizer\n",
        "\n",
        "#training loop\n",
        "n_total_steps = len(train_loader)\n",
        "for epoch in range(num_epochs):\n",
        "  for i, (images, labels) in enumerate(train_loader):\n",
        "    # 100, 1, 28, 28\n",
        "    # tensor must be 100, 784\n",
        "    images = images.reshape(-1, 28*28).to(device) #push to gpu\n",
        "    labels = labels.to(device)\n",
        "\n",
        "    #forward\n",
        "    outputs = model(images)\n",
        "    loss = criterion(outputs,labels)\n",
        "\n",
        "    #backwards\n",
        "    optimizer.zero_grad()\n",
        "    loss.backward()\n",
        "    optimizer.step()\n",
        "\n",
        "    if(i+1)%100 == 0:\n",
        "      print(f'epoch {epoch+1} / {num_epochs}, step{i+1}/{n_total_steps}, loss = {loss.item():.4f}')\n"
      ],
      "metadata": {
        "colab": {
          "base_uri": "https://localhost:8080/"
        },
        "id": "tA5uYZA0rKo4",
        "outputId": "6365902b-cb1f-42d9-8129-8a04da4c01bb"
      },
      "execution_count": 18,
      "outputs": [
        {
          "output_type": "stream",
          "name": "stdout",
          "text": [
            "epoch 1 / 2, step100/600, loss = 0.4338\n",
            "epoch 1 / 2, step200/600, loss = 0.3054\n",
            "epoch 1 / 2, step300/600, loss = 0.2994\n",
            "epoch 1 / 2, step400/600, loss = 0.2314\n",
            "epoch 1 / 2, step500/600, loss = 0.2288\n",
            "epoch 1 / 2, step600/600, loss = 0.1324\n",
            "epoch 2 / 2, step100/600, loss = 0.2694\n",
            "epoch 2 / 2, step200/600, loss = 0.1940\n",
            "epoch 2 / 2, step300/600, loss = 0.1341\n",
            "epoch 2 / 2, step400/600, loss = 0.1823\n",
            "epoch 2 / 2, step500/600, loss = 0.1267\n",
            "epoch 2 / 2, step600/600, loss = 0.0920\n"
          ]
        }
      ]
    },
    {
      "cell_type": "code",
      "source": [
        "#test\n",
        "with torch.no_grad():\n",
        "  n_correct = 0\n",
        "  n_samples = 0\n",
        "  for images, labels in test_loader:\n",
        "    images = images.reshape(-1, 28*28).to(device)\n",
        "    labels = labels.to(device)\n",
        "    output = model(images)#our trained model already\n",
        "\n",
        "    #value, index (we need the index class)\n",
        "    _, predictions = torch.max(outputs, 1)\n",
        "    n_samples += labels.shape[0] #number of samples of the batch\n",
        "    n_correct += (predictions == labels).sum().item() #plus 1 for each correct\n",
        "\n",
        "\n",
        "  acc = 100.0 * n_correct / n_samples\n",
        "  print(f'accuracy = {acc:.2f}')"
      ],
      "metadata": {
        "colab": {
          "base_uri": "https://localhost:8080/"
        },
        "id": "TMf6p0-5tCEx",
        "outputId": "8d816ae2-9bc8-4a0e-bfc4-8b0b22503cc2"
      },
      "execution_count": 20,
      "outputs": [
        {
          "output_type": "stream",
          "name": "stdout",
          "text": [
            "accuracy = 10.15\n"
          ]
        }
      ]
    }
  ]
}