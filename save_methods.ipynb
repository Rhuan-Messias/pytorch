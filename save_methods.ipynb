{
  "nbformat": 4,
  "nbformat_minor": 0,
  "metadata": {
    "colab": {
      "provenance": [],
      "authorship_tag": "ABX9TyPVbfsbdc014SqEe3nNUTg5",
      "include_colab_link": true
    },
    "kernelspec": {
      "name": "python3",
      "display_name": "Python 3"
    },
    "language_info": {
      "name": "python"
    }
  },
  "cells": [
    {
      "cell_type": "markdown",
      "metadata": {
        "id": "view-in-github",
        "colab_type": "text"
      },
      "source": [
        "<a href=\"https://colab.research.google.com/github/Rhuan-Messias/pytorch/blob/main/save_methods.ipynb\" target=\"_parent\"><img src=\"https://colab.research.google.com/assets/colab-badge.svg\" alt=\"Open In Colab\"/></a>"
      ]
    },
    {
      "cell_type": "markdown",
      "source": [
        "# Saving and Loading Models"
      ],
      "metadata": {
        "id": "iWiACZzB4N5h"
      }
    },
    {
      "cell_type": "code",
      "execution_count": null,
      "metadata": {
        "id": "KD8FUY8w4Lrw"
      },
      "outputs": [],
      "source": [
        "import torch\n",
        "import torch.nn as nn\n",
        "\n",
        "torch.save(arg, PATH)\n",
        "\n",
        "torch.load(PATH)\n",
        "\n",
        "model.load_state_dict(arg)\n"
      ]
    },
    {
      "cell_type": "code",
      "source": [
        "import torch\n",
        "import torch.nn as nn\n",
        "\n",
        "torch.save(model,PATH)\n",
        "\n",
        "model = torch.load(PATH)\n",
        "model.eval() #evaluation method\n",
        "\n",
        "## or save state dict ##\n",
        "torch.save(model.state_dict(),PATH)\n",
        "\n",
        "model = Model(*args,**kwargs)\n",
        "model.load_state_dict(torch.load(PATH))\n",
        "model.eval()"
      ],
      "metadata": {
        "id": "cdeU9rcV4tY_"
      },
      "execution_count": null,
      "outputs": []
    },
    {
      "cell_type": "code",
      "source": [
        "model = Model(n_input_features=6)\n",
        "#train the model. . .\n",
        "learning_rate = 0.01\n",
        "optimizer = torch.optim.SGD(model.parameters(), lr=learning_rate)\n",
        "print(model.state_dict())\n",
        "print(optimizer.state_dict())\n",
        "\n",
        "checkpoint = {\n",
        "    \"epoch\": 90,\n",
        "    \"model_state\": model.state_dict(),\n",
        "    \"optim_state\": optimizer.state_dict()\n",
        "}\n",
        "\n",
        "torch.save(checkpoint, \"checkpoint.pth\")\n",
        "\n",
        "loaded_checkpoint = torch.load(\"checkpoint.pth\")\n",
        "epoch = loaded_checkpoint[\"epoch\"]\n",
        "\n",
        "model = Model(n_input_features=6)\n",
        "optimizer = torch.optim.SGD(model.parameters(), lr=0)\n",
        "\n",
        "model.load_state_dict(checkpoint[\"model_state\"])\n"
      ],
      "metadata": {
        "id": "sbmqATZO8YEj"
      },
      "execution_count": null,
      "outputs": []
    },
    {
      "cell_type": "markdown",
      "source": [
        "# Save GPU, load CPU"
      ],
      "metadata": {
        "id": "syxp-XcC9ZZx"
      }
    },
    {
      "cell_type": "code",
      "source": [
        "import torch\n",
        "import torch.nn as nn\n",
        "\n",
        "#save on gpu, load on cpu\n",
        "device = torch.device(\"cuda\")\n",
        "model.to(device)\n",
        "torch.save(model.state_dict(), PATH)\n",
        "\n",
        "device = torch.device(\"cpu\")\n",
        "model = Model(*args, **kwargs)\n",
        "model.load_state_dict(torch.load(PATH, map_location=device))\n",
        "\n",
        "#save on cpu, load on gpu\n",
        "torch.save(mode.state_dict(), PATH)\n",
        "\n",
        "device = torch.device(\"cuda\")\n",
        "model = Model(*args, **kwargs)\n",
        "model.load_state_dict(torch.load(PATH, map_location=\"cuda:0\")) # number of the gpu\n",
        "model.to(device)\n"
      ],
      "metadata": {
        "id": "tAQJy4J_9bjV"
      },
      "execution_count": null,
      "outputs": []
    }
  ]
}